{
 "cells": [
  {
   "cell_type": "code",
   "execution_count": 1,
   "metadata": {},
   "outputs": [],
   "source": [
    "import tensorflow as tf"
   ]
  },
  {
   "cell_type": "code",
   "execution_count": 2,
   "metadata": {},
   "outputs": [],
   "source": [
    "from tensorflow.keras.models import Sequential\n",
    "from tensorflow.keras.layers import Dense"
   ]
  },
  {
   "cell_type": "code",
   "execution_count": 3,
   "metadata": {},
   "outputs": [],
   "source": [
    "from tensorflow.keras.layers import Convolution2D\n",
    "from tensorflow.keras.layers import MaxPooling2D\n",
    "from tensorflow.keras.layers import Flatten"
   ]
  },
  {
   "cell_type": "code",
   "execution_count": 28,
   "metadata": {},
   "outputs": [],
   "source": [
    "##Image Augmentation"
   ]
  },
  {
   "cell_type": "code",
   "execution_count": 5,
   "metadata": {},
   "outputs": [],
   "source": [
    "from tensorflow.keras.preprocessing.image import ImageDataGenerator"
   ]
  },
  {
   "cell_type": "code",
   "execution_count": 6,
   "metadata": {},
   "outputs": [],
   "source": [
    "train_datagen = ImageDataGenerator(rescale=1./255,shear_range=0.2,zoom_range=0.2,horizontal_flip=True,vertical_flip=True)"
   ]
  },
  {
   "cell_type": "code",
   "execution_count": 7,
   "metadata": {},
   "outputs": [],
   "source": [
    "test_datagen  = ImageDataGenerator(rescale=1./255)"
   ]
  },
  {
   "cell_type": "code",
   "execution_count": 9,
   "metadata": {},
   "outputs": [
    {
     "name": "stdout",
     "output_type": "stream",
     "text": [
      "Found 3009 images belonging to 5 classes.\n"
     ]
    }
   ],
   "source": [
    "x_train = train_datagen.flow_from_directory(r\"D:\\IBM\\flowers\\training\",target_size=(64,64),batch_size=32,class_mode=\"categorical\")"
   ]
  },
  {
   "cell_type": "code",
   "execution_count": 10,
   "metadata": {},
   "outputs": [
    {
     "name": "stdout",
     "output_type": "stream",
     "text": [
      "Found 1308 images belonging to 5 classes.\n"
     ]
    }
   ],
   "source": [
    "x_test = test_datagen.flow_from_directory(r\"D:\\IBM\\flowers\\testing\",target_size=(64,64),batch_size=32,class_mode=\"categorical\")"
   ]
  },
  {
   "cell_type": "code",
   "execution_count": 11,
   "metadata": {},
   "outputs": [
    {
     "data": {
      "text/plain": [
       "{'daisy': 0, 'dandelion': 1, 'rose': 2, 'sunflower': 3, 'tulip': 4}"
      ]
     },
     "execution_count": 11,
     "metadata": {},
     "output_type": "execute_result"
    }
   ],
   "source": [
    "x_train.class_indices"
   ]
  },
  {
   "cell_type": "code",
   "execution_count": 12,
   "metadata": {},
   "outputs": [
    {
     "data": {
      "text/plain": [
       "{'daisy': 0, 'dandelion': 1, 'rose': 2, 'sunflower': 3, 'tulip': 4}"
      ]
     },
     "execution_count": 12,
     "metadata": {},
     "output_type": "execute_result"
    }
   ],
   "source": [
    "x_test.class_indices"
   ]
  },
  {
   "cell_type": "code",
   "execution_count": null,
   "metadata": {},
   "outputs": [],
   "source": [
    "##Create Model"
   ]
  },
  {
   "cell_type": "code",
   "execution_count": 13,
   "metadata": {},
   "outputs": [],
   "source": [
    "Model = Sequential()"
   ]
  },
  {
   "cell_type": "code",
   "execution_count": null,
   "metadata": {},
   "outputs": [],
   "source": [
    "##Add Layers"
   ]
  },
  {
   "cell_type": "code",
   "execution_count": null,
   "metadata": {},
   "outputs": [],
   "source": [
    "###Convolution Layer"
   ]
  },
  {
   "cell_type": "code",
   "execution_count": 14,
   "metadata": {},
   "outputs": [],
   "source": [
    "Model.add(Convolution2D(32,(3,3),input_shape=(64,64,3),strides=(1,1),activation='relu'))"
   ]
  },
  {
   "cell_type": "code",
   "execution_count": null,
   "metadata": {},
   "outputs": [],
   "source": [
    "###MacPooling Layer"
   ]
  },
  {
   "cell_type": "code",
   "execution_count": null,
   "metadata": {},
   "outputs": [],
   "source": [
    "Model.add(MaxPooling2D(pool_size=(2,2)))"
   ]
  },
  {
   "cell_type": "code",
   "execution_count": 16,
   "metadata": {},
   "outputs": [],
   "source": [
    "###Flatten Layer"
   ]
  },
  {
   "cell_type": "code",
   "execution_count": 17,
   "metadata": {},
   "outputs": [],
   "source": [
    "Model.add(Flatten())"
   ]
  },
  {
   "cell_type": "code",
   "execution_count": 18,
   "metadata": {},
   "outputs": [],
   "source": [
    "###Dense(Hidden layer)"
   ]
  },
  {
   "cell_type": "code",
   "execution_count": 19,
   "metadata": {},
   "outputs": [],
   "source": [
    "Model.add(Dense(units=300,kernel_initializer=\"random_uniform\",activation=\"relu\"))"
   ]
  },
  {
   "cell_type": "code",
   "execution_count": 20,
   "metadata": {},
   "outputs": [],
   "source": [
    "Model.add(Dense(units=200,kernel_initializer=\"random_uniform\",activation=\"relu\"))"
   ]
  },
  {
   "cell_type": "code",
   "execution_count": 21,
   "metadata": {},
   "outputs": [],
   "source": [
    "###output layer"
   ]
  },
  {
   "cell_type": "code",
   "execution_count": 22,
   "metadata": {},
   "outputs": [],
   "source": [
    "Model.add(Dense(units=5,kernel_initializer=\"random_uniform\",activation=\"softmax\"))"
   ]
  },
  {
   "cell_type": "code",
   "execution_count": null,
   "metadata": {},
   "outputs": [],
   "source": [
    "###compile the model"
   ]
  },
  {
   "cell_type": "code",
   "execution_count": 23,
   "metadata": {},
   "outputs": [],
   "source": [
    "Model.compile(loss=\"categorical_crossentropy\",optimizer=\"adam\",metrics=[\"accuracy\"])"
   ]
  },
  {
   "cell_type": "code",
   "execution_count": 24,
   "metadata": {},
   "outputs": [],
   "source": [
    "###fir the model"
   ]
  },
  {
   "cell_type": "code",
   "execution_count": 25,
   "metadata": {},
   "outputs": [
    {
     "name": "stdout",
     "output_type": "stream",
     "text": [
      "Epoch 1/30\n",
      "94/94 [==============================] - 39s 406ms/step - loss: 1.3107 - accuracy: 0.4169 - val_loss: 1.2114 - val_accuracy: 0.5156\n",
      "Epoch 2/30\n",
      "94/94 [==============================] - 15s 160ms/step - loss: 1.1701 - accuracy: 0.5207 - val_loss: 1.2426 - val_accuracy: 0.4703\n",
      "Epoch 3/30\n",
      "94/94 [==============================] - 15s 162ms/step - loss: 1.0871 - accuracy: 0.5600 - val_loss: 1.2795 - val_accuracy: 0.4516\n",
      "Epoch 4/30\n",
      "94/94 [==============================] - 14s 152ms/step - loss: 1.0343 - accuracy: 0.5865 - val_loss: 1.1156 - val_accuracy: 0.5383\n",
      "Epoch 5/30\n",
      "94/94 [==============================] - 14s 152ms/step - loss: 0.9607 - accuracy: 0.6238 - val_loss: 1.0425 - val_accuracy: 0.5945\n",
      "Epoch 6/30\n",
      "94/94 [==============================] - 15s 157ms/step - loss: 0.9261 - accuracy: 0.6318 - val_loss: 1.0261 - val_accuracy: 0.6102\n",
      "Epoch 7/30\n",
      "94/94 [==============================] - 15s 158ms/step - loss: 0.8985 - accuracy: 0.6460 - val_loss: 1.1081 - val_accuracy: 0.5727\n",
      "Epoch 8/30\n",
      "94/94 [==============================] - 15s 156ms/step - loss: 0.8740 - accuracy: 0.6604 - val_loss: 1.1389 - val_accuracy: 0.5594\n",
      "Epoch 9/30\n",
      "94/94 [==============================] - 18s 196ms/step - loss: 0.8392 - accuracy: 0.6688 - val_loss: 1.0166 - val_accuracy: 0.6187\n",
      "Epoch 10/30\n",
      "94/94 [==============================] - 17s 176ms/step - loss: 0.7813 - accuracy: 0.7031 - val_loss: 1.0274 - val_accuracy: 0.6242\n",
      "Epoch 11/30\n",
      "94/94 [==============================] - 15s 161ms/step - loss: 0.7584 - accuracy: 0.7178 - val_loss: 1.0595 - val_accuracy: 0.6102\n",
      "Epoch 12/30\n",
      "94/94 [==============================] - 16s 166ms/step - loss: 0.7741 - accuracy: 0.7111 - val_loss: 0.9577 - val_accuracy: 0.6492\n",
      "Epoch 13/30\n",
      "94/94 [==============================] - 14s 154ms/step - loss: 0.7085 - accuracy: 0.7313 - val_loss: 1.0223 - val_accuracy: 0.6359\n",
      "Epoch 14/30\n",
      "94/94 [==============================] - 14s 152ms/step - loss: 0.6818 - accuracy: 0.7427 - val_loss: 1.0196 - val_accuracy: 0.6453\n",
      "Epoch 15/30\n",
      "94/94 [==============================] - 15s 159ms/step - loss: 0.6694 - accuracy: 0.7454 - val_loss: 1.1056 - val_accuracy: 0.6125\n",
      "Epoch 16/30\n",
      "94/94 [==============================] - 15s 155ms/step - loss: 0.6357 - accuracy: 0.7598 - val_loss: 1.0809 - val_accuracy: 0.6445\n",
      "Epoch 17/30\n",
      "94/94 [==============================] - 14s 153ms/step - loss: 0.6358 - accuracy: 0.7508 - val_loss: 0.9851 - val_accuracy: 0.6648\n",
      "Epoch 18/30\n",
      "94/94 [==============================] - 15s 154ms/step - loss: 0.6282 - accuracy: 0.7571 - val_loss: 1.0374 - val_accuracy: 0.6453\n",
      "Epoch 19/30\n",
      "94/94 [==============================] - 14s 153ms/step - loss: 0.5826 - accuracy: 0.7807 - val_loss: 1.1171 - val_accuracy: 0.6656\n",
      "Epoch 20/30\n",
      "94/94 [==============================] - 15s 161ms/step - loss: 0.5443 - accuracy: 0.7971 - val_loss: 1.1342 - val_accuracy: 0.6336\n",
      "Epoch 21/30\n",
      "94/94 [==============================] - 15s 155ms/step - loss: 0.6096 - accuracy: 0.7840 - val_loss: 1.0851 - val_accuracy: 0.6234\n",
      "Epoch 22/30\n",
      "94/94 [==============================] - 15s 154ms/step - loss: 0.5627 - accuracy: 0.7854 - val_loss: 1.1923 - val_accuracy: 0.6383\n",
      "Epoch 23/30\n",
      "94/94 [==============================] - 14s 151ms/step - loss: 0.5010 - accuracy: 0.8126 - val_loss: 1.1143 - val_accuracy: 0.6477\n",
      "Epoch 24/30\n",
      "94/94 [==============================] - 14s 153ms/step - loss: 0.4995 - accuracy: 0.8139 - val_loss: 1.1937 - val_accuracy: 0.6398\n",
      "Epoch 25/30\n",
      "94/94 [==============================] - 15s 163ms/step - loss: 0.4521 - accuracy: 0.8357 - val_loss: 1.2338 - val_accuracy: 0.6461\n",
      "Epoch 26/30\n",
      "94/94 [==============================] - 15s 158ms/step - loss: 0.4580 - accuracy: 0.8280 - val_loss: 1.2549 - val_accuracy: 0.6313\n",
      "Epoch 27/30\n",
      "94/94 [==============================] - 15s 154ms/step - loss: 0.4294 - accuracy: 0.8361 - val_loss: 1.1817 - val_accuracy: 0.6516\n",
      "Epoch 28/30\n",
      "94/94 [==============================] - 14s 153ms/step - loss: 0.4264 - accuracy: 0.8364 - val_loss: 1.2582 - val_accuracy: 0.6586\n",
      "Epoch 29/30\n",
      "94/94 [==============================] - 14s 153ms/step - loss: 0.3961 - accuracy: 0.8529 - val_loss: 1.3528 - val_accuracy: 0.6438\n",
      "Epoch 30/30\n",
      "94/94 [==============================] - 15s 163ms/step - loss: 0.3994 - accuracy: 0.8596 - val_loss: 1.3021 - val_accuracy: 0.6250\n"
     ]
    },
    {
     "data": {
      "text/plain": [
       "<keras.callbacks.History at 0x25d936ae4c0>"
      ]
     },
     "execution_count": 25,
     "metadata": {},
     "output_type": "execute_result"
    }
   ],
   "source": [
    "Model.fit(x_train,steps_per_epoch=94,epochs=30,validation_data=x_test,validation_steps=40)"
   ]
  },
  {
   "cell_type": "code",
   "execution_count": 27,
   "metadata": {},
   "outputs": [],
   "source": [
    "Model.save(\"flowers.h5\")"
   ]
  }
 ],
 "metadata": {
  "kernelspec": {
   "display_name": "Python 3 (ipykernel)",
   "language": "python",
   "name": "python3"
  },
  "language_info": {
   "codemirror_mode": {
    "name": "ipython",
    "version": 3
   },
   "file_extension": ".py",
   "mimetype": "text/x-python",
   "name": "python",
   "nbconvert_exporter": "python",
   "pygments_lexer": "ipython3",
   "version": "3.9.7"
  }
 },
 "nbformat": 4,
 "nbformat_minor": 2
}
